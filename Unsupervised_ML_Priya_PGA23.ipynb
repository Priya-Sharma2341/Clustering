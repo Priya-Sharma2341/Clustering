{
 "cells": [
  {
   "cell_type": "markdown",
   "id": "78791ddc",
   "metadata": {},
   "source": [
    "### PGA 23\n",
    "### PRIYA SHARMA\n",
    "### Unsupervised ML"
   ]
  },
  {
   "cell_type": "markdown",
   "id": "53e50fcf",
   "metadata": {},
   "source": [
    "## Importing Libraries "
   ]
  },
  {
   "cell_type": "code",
   "execution_count": 1,
   "id": "783e4e78",
   "metadata": {},
   "outputs": [],
   "source": [
    "import numpy as np\n",
    "import pandas as pd\n",
    "import matplotlib.pyplot as plt\n",
    "from sklearn.model_selection import train_test_split\n",
    "from sklearn.metrics import confusion_matrix,classification_report\n",
    "import seaborn as sns\n",
    "from sklearn.preprocessing import StandardScaler"
   ]
  },
  {
   "cell_type": "code",
   "execution_count": 2,
   "id": "c89fd4ea",
   "metadata": {},
   "outputs": [
    {
     "data": {
      "text/html": [
       "<div>\n",
       "<style scoped>\n",
       "    .dataframe tbody tr th:only-of-type {\n",
       "        vertical-align: middle;\n",
       "    }\n",
       "\n",
       "    .dataframe tbody tr th {\n",
       "        vertical-align: top;\n",
       "    }\n",
       "\n",
       "    .dataframe thead th {\n",
       "        text-align: right;\n",
       "    }\n",
       "</style>\n",
       "<table border=\"1\" class=\"dataframe\">\n",
       "  <thead>\n",
       "    <tr style=\"text-align: right;\">\n",
       "      <th></th>\n",
       "      <th>CUST_ID</th>\n",
       "      <th>BALANCE</th>\n",
       "      <th>BALANCE_FREQUENCY</th>\n",
       "      <th>PURCHASES</th>\n",
       "      <th>ONEOFF_PURCHASES</th>\n",
       "      <th>INSTALLMENTS_PURCHASES</th>\n",
       "      <th>CASH_ADVANCE</th>\n",
       "      <th>PURCHASES_FREQUENCY</th>\n",
       "      <th>ONEOFF_PURCHASES_FREQUENCY</th>\n",
       "      <th>PURCHASES_INSTALLMENTS_FREQUENCY</th>\n",
       "      <th>CASH_ADVANCE_FREQUENCY</th>\n",
       "      <th>CASH_ADVANCE_TRX</th>\n",
       "      <th>PURCHASES_TRX</th>\n",
       "      <th>CREDIT_LIMIT</th>\n",
       "      <th>PAYMENTS</th>\n",
       "      <th>MINIMUM_PAYMENTS</th>\n",
       "      <th>PRC_FULL_PAYMENT</th>\n",
       "      <th>TENURE</th>\n",
       "    </tr>\n",
       "  </thead>\n",
       "  <tbody>\n",
       "    <tr>\n",
       "      <th>0</th>\n",
       "      <td>C10001</td>\n",
       "      <td>40.900749</td>\n",
       "      <td>0.818182</td>\n",
       "      <td>95.40</td>\n",
       "      <td>0.00</td>\n",
       "      <td>95.4</td>\n",
       "      <td>0.000000</td>\n",
       "      <td>0.166667</td>\n",
       "      <td>0.000000</td>\n",
       "      <td>0.083333</td>\n",
       "      <td>0.000000</td>\n",
       "      <td>0</td>\n",
       "      <td>2</td>\n",
       "      <td>1000.0</td>\n",
       "      <td>201.802084</td>\n",
       "      <td>139.509787</td>\n",
       "      <td>0.000000</td>\n",
       "      <td>12</td>\n",
       "    </tr>\n",
       "    <tr>\n",
       "      <th>1</th>\n",
       "      <td>C10002</td>\n",
       "      <td>3202.467416</td>\n",
       "      <td>0.909091</td>\n",
       "      <td>0.00</td>\n",
       "      <td>0.00</td>\n",
       "      <td>0.0</td>\n",
       "      <td>6442.945483</td>\n",
       "      <td>0.000000</td>\n",
       "      <td>0.000000</td>\n",
       "      <td>0.000000</td>\n",
       "      <td>0.250000</td>\n",
       "      <td>4</td>\n",
       "      <td>0</td>\n",
       "      <td>7000.0</td>\n",
       "      <td>4103.032597</td>\n",
       "      <td>1072.340217</td>\n",
       "      <td>0.222222</td>\n",
       "      <td>12</td>\n",
       "    </tr>\n",
       "    <tr>\n",
       "      <th>2</th>\n",
       "      <td>C10003</td>\n",
       "      <td>2495.148862</td>\n",
       "      <td>1.000000</td>\n",
       "      <td>773.17</td>\n",
       "      <td>773.17</td>\n",
       "      <td>0.0</td>\n",
       "      <td>0.000000</td>\n",
       "      <td>1.000000</td>\n",
       "      <td>1.000000</td>\n",
       "      <td>0.000000</td>\n",
       "      <td>0.000000</td>\n",
       "      <td>0</td>\n",
       "      <td>12</td>\n",
       "      <td>7500.0</td>\n",
       "      <td>622.066742</td>\n",
       "      <td>627.284787</td>\n",
       "      <td>0.000000</td>\n",
       "      <td>12</td>\n",
       "    </tr>\n",
       "    <tr>\n",
       "      <th>3</th>\n",
       "      <td>C10004</td>\n",
       "      <td>1666.670542</td>\n",
       "      <td>0.636364</td>\n",
       "      <td>1499.00</td>\n",
       "      <td>1499.00</td>\n",
       "      <td>0.0</td>\n",
       "      <td>205.788017</td>\n",
       "      <td>0.083333</td>\n",
       "      <td>0.083333</td>\n",
       "      <td>0.000000</td>\n",
       "      <td>0.083333</td>\n",
       "      <td>1</td>\n",
       "      <td>1</td>\n",
       "      <td>7500.0</td>\n",
       "      <td>0.000000</td>\n",
       "      <td>NaN</td>\n",
       "      <td>0.000000</td>\n",
       "      <td>12</td>\n",
       "    </tr>\n",
       "    <tr>\n",
       "      <th>4</th>\n",
       "      <td>C10005</td>\n",
       "      <td>817.714335</td>\n",
       "      <td>1.000000</td>\n",
       "      <td>16.00</td>\n",
       "      <td>16.00</td>\n",
       "      <td>0.0</td>\n",
       "      <td>0.000000</td>\n",
       "      <td>0.083333</td>\n",
       "      <td>0.083333</td>\n",
       "      <td>0.000000</td>\n",
       "      <td>0.000000</td>\n",
       "      <td>0</td>\n",
       "      <td>1</td>\n",
       "      <td>1200.0</td>\n",
       "      <td>678.334763</td>\n",
       "      <td>244.791237</td>\n",
       "      <td>0.000000</td>\n",
       "      <td>12</td>\n",
       "    </tr>\n",
       "  </tbody>\n",
       "</table>\n",
       "</div>"
      ],
      "text/plain": [
       "  CUST_ID      BALANCE  BALANCE_FREQUENCY  PURCHASES  ONEOFF_PURCHASES  \\\n",
       "0  C10001    40.900749           0.818182      95.40              0.00   \n",
       "1  C10002  3202.467416           0.909091       0.00              0.00   \n",
       "2  C10003  2495.148862           1.000000     773.17            773.17   \n",
       "3  C10004  1666.670542           0.636364    1499.00           1499.00   \n",
       "4  C10005   817.714335           1.000000      16.00             16.00   \n",
       "\n",
       "   INSTALLMENTS_PURCHASES  CASH_ADVANCE  PURCHASES_FREQUENCY  \\\n",
       "0                    95.4      0.000000             0.166667   \n",
       "1                     0.0   6442.945483             0.000000   \n",
       "2                     0.0      0.000000             1.000000   \n",
       "3                     0.0    205.788017             0.083333   \n",
       "4                     0.0      0.000000             0.083333   \n",
       "\n",
       "   ONEOFF_PURCHASES_FREQUENCY  PURCHASES_INSTALLMENTS_FREQUENCY  \\\n",
       "0                    0.000000                          0.083333   \n",
       "1                    0.000000                          0.000000   \n",
       "2                    1.000000                          0.000000   \n",
       "3                    0.083333                          0.000000   \n",
       "4                    0.083333                          0.000000   \n",
       "\n",
       "   CASH_ADVANCE_FREQUENCY  CASH_ADVANCE_TRX  PURCHASES_TRX  CREDIT_LIMIT  \\\n",
       "0                0.000000                 0              2        1000.0   \n",
       "1                0.250000                 4              0        7000.0   \n",
       "2                0.000000                 0             12        7500.0   \n",
       "3                0.083333                 1              1        7500.0   \n",
       "4                0.000000                 0              1        1200.0   \n",
       "\n",
       "      PAYMENTS  MINIMUM_PAYMENTS  PRC_FULL_PAYMENT  TENURE  \n",
       "0   201.802084        139.509787          0.000000      12  \n",
       "1  4103.032597       1072.340217          0.222222      12  \n",
       "2   622.066742        627.284787          0.000000      12  \n",
       "3     0.000000               NaN          0.000000      12  \n",
       "4   678.334763        244.791237          0.000000      12  "
      ]
     },
     "execution_count": 2,
     "metadata": {},
     "output_type": "execute_result"
    }
   ],
   "source": [
    "df = pd.read_csv('credit_card.csv')\n",
    "df.head()"
   ]
  },
  {
   "cell_type": "code",
   "execution_count": 3,
   "id": "1d4e2575",
   "metadata": {},
   "outputs": [
    {
     "data": {
      "text/plain": [
       "(8950, 18)"
      ]
     },
     "execution_count": 3,
     "metadata": {},
     "output_type": "execute_result"
    }
   ],
   "source": [
    "df.shape"
   ]
  },
  {
   "cell_type": "code",
   "execution_count": 4,
   "id": "9f0c7dfb",
   "metadata": {},
   "outputs": [
    {
     "data": {
      "text/plain": [
       "CUST_ID                               0\n",
       "BALANCE                               0\n",
       "BALANCE_FREQUENCY                     0\n",
       "PURCHASES                             0\n",
       "ONEOFF_PURCHASES                      0\n",
       "INSTALLMENTS_PURCHASES                0\n",
       "CASH_ADVANCE                          0\n",
       "PURCHASES_FREQUENCY                   0\n",
       "ONEOFF_PURCHASES_FREQUENCY            0\n",
       "PURCHASES_INSTALLMENTS_FREQUENCY      0\n",
       "CASH_ADVANCE_FREQUENCY                0\n",
       "CASH_ADVANCE_TRX                      0\n",
       "PURCHASES_TRX                         0\n",
       "CREDIT_LIMIT                          1\n",
       "PAYMENTS                              0\n",
       "MINIMUM_PAYMENTS                    313\n",
       "PRC_FULL_PAYMENT                      0\n",
       "TENURE                                0\n",
       "dtype: int64"
      ]
     },
     "execution_count": 4,
     "metadata": {},
     "output_type": "execute_result"
    }
   ],
   "source": [
    "df.isnull().sum()"
   ]
  },
  {
   "cell_type": "code",
   "execution_count": 5,
   "id": "e0ffff3b",
   "metadata": {},
   "outputs": [
    {
     "name": "stdout",
     "output_type": "stream",
     "text": [
      "<class 'pandas.core.frame.DataFrame'>\n",
      "RangeIndex: 8950 entries, 0 to 8949\n",
      "Data columns (total 18 columns):\n",
      " #   Column                            Non-Null Count  Dtype  \n",
      "---  ------                            --------------  -----  \n",
      " 0   CUST_ID                           8950 non-null   object \n",
      " 1   BALANCE                           8950 non-null   float64\n",
      " 2   BALANCE_FREQUENCY                 8950 non-null   float64\n",
      " 3   PURCHASES                         8950 non-null   float64\n",
      " 4   ONEOFF_PURCHASES                  8950 non-null   float64\n",
      " 5   INSTALLMENTS_PURCHASES            8950 non-null   float64\n",
      " 6   CASH_ADVANCE                      8950 non-null   float64\n",
      " 7   PURCHASES_FREQUENCY               8950 non-null   float64\n",
      " 8   ONEOFF_PURCHASES_FREQUENCY        8950 non-null   float64\n",
      " 9   PURCHASES_INSTALLMENTS_FREQUENCY  8950 non-null   float64\n",
      " 10  CASH_ADVANCE_FREQUENCY            8950 non-null   float64\n",
      " 11  CASH_ADVANCE_TRX                  8950 non-null   int64  \n",
      " 12  PURCHASES_TRX                     8950 non-null   int64  \n",
      " 13  CREDIT_LIMIT                      8949 non-null   float64\n",
      " 14  PAYMENTS                          8950 non-null   float64\n",
      " 15  MINIMUM_PAYMENTS                  8637 non-null   float64\n",
      " 16  PRC_FULL_PAYMENT                  8950 non-null   float64\n",
      " 17  TENURE                            8950 non-null   int64  \n",
      "dtypes: float64(14), int64(3), object(1)\n",
      "memory usage: 1.2+ MB\n"
     ]
    }
   ],
   "source": [
    "df.info()"
   ]
  },
  {
   "cell_type": "code",
   "execution_count": 6,
   "id": "1aeb00cf",
   "metadata": {},
   "outputs": [],
   "source": [
    "df1=df.copy()"
   ]
  },
  {
   "cell_type": "code",
   "execution_count": 7,
   "id": "47ff52aa",
   "metadata": {},
   "outputs": [],
   "source": [
    "df1.drop(columns=[\"CUST_ID\"],inplace=True)"
   ]
  },
  {
   "cell_type": "code",
   "execution_count": 8,
   "id": "7def7004",
   "metadata": {},
   "outputs": [
    {
     "data": {
      "text/plain": [
       "Index(['BALANCE', 'BALANCE_FREQUENCY', 'PURCHASES', 'ONEOFF_PURCHASES',\n",
       "       'INSTALLMENTS_PURCHASES', 'CASH_ADVANCE', 'PURCHASES_FREQUENCY',\n",
       "       'ONEOFF_PURCHASES_FREQUENCY', 'PURCHASES_INSTALLMENTS_FREQUENCY',\n",
       "       'CASH_ADVANCE_FREQUENCY', 'CASH_ADVANCE_TRX', 'PURCHASES_TRX',\n",
       "       'CREDIT_LIMIT', 'PAYMENTS', 'MINIMUM_PAYMENTS', 'PRC_FULL_PAYMENT',\n",
       "       'TENURE'],\n",
       "      dtype='object')"
      ]
     },
     "execution_count": 8,
     "metadata": {},
     "output_type": "execute_result"
    }
   ],
   "source": [
    "df1.columns"
   ]
  },
  {
   "cell_type": "code",
   "execution_count": 9,
   "id": "bb8554a0",
   "metadata": {},
   "outputs": [
    {
     "data": {
      "text/plain": [
       "BALANCE                               0\n",
       "BALANCE_FREQUENCY                     0\n",
       "PURCHASES                             0\n",
       "ONEOFF_PURCHASES                      0\n",
       "INSTALLMENTS_PURCHASES                0\n",
       "CASH_ADVANCE                          0\n",
       "PURCHASES_FREQUENCY                   0\n",
       "ONEOFF_PURCHASES_FREQUENCY            0\n",
       "PURCHASES_INSTALLMENTS_FREQUENCY      0\n",
       "CASH_ADVANCE_FREQUENCY                0\n",
       "CASH_ADVANCE_TRX                      0\n",
       "PURCHASES_TRX                         0\n",
       "CREDIT_LIMIT                          1\n",
       "PAYMENTS                              0\n",
       "MINIMUM_PAYMENTS                    313\n",
       "PRC_FULL_PAYMENT                      0\n",
       "TENURE                                0\n",
       "dtype: int64"
      ]
     },
     "execution_count": 9,
     "metadata": {},
     "output_type": "execute_result"
    }
   ],
   "source": [
    "df1.isnull().sum()"
   ]
  },
  {
   "cell_type": "code",
   "execution_count": 10,
   "id": "0736af9d",
   "metadata": {},
   "outputs": [
    {
     "data": {
      "text/plain": [
       "0"
      ]
     },
     "execution_count": 10,
     "metadata": {},
     "output_type": "execute_result"
    }
   ],
   "source": [
    "df1.duplicated().sum()"
   ]
  },
  {
   "cell_type": "code",
   "execution_count": 11,
   "id": "b844cae4",
   "metadata": {},
   "outputs": [],
   "source": [
    "cat_cols=[\"BALANCE_FREQUENCY\",\"PURCHASES_FREQUENCY\", \"ONEOFF_PURCHASES_FREQUENCY\", \"PURCHASES_INSTALLMENTS_FREQUENCY\"]"
   ]
  },
  {
   "cell_type": "code",
   "execution_count": 12,
   "id": "bd3c7d9e",
   "metadata": {},
   "outputs": [
    {
     "name": "stdout",
     "output_type": "stream",
     "text": [
      "\n",
      "\n",
      "Value counts of: BALANCE_FREQUENCY\n",
      " 1.000000    6211\n",
      "0.909091     410\n",
      "0.818182     278\n",
      "0.727273     223\n",
      "0.545455     219\n",
      "0.636364     209\n",
      "0.454545     172\n",
      "0.363636     170\n",
      "0.272727     151\n",
      "0.181818     146\n",
      "0.000000      80\n",
      "0.090909      67\n",
      "0.833333      60\n",
      "0.875000      57\n",
      "0.900000      55\n",
      "0.888889      53\n",
      "0.857143      51\n",
      "0.500000      40\n",
      "0.666667      37\n",
      "0.333333      22\n",
      "0.777778      22\n",
      "0.800000      20\n",
      "0.571429      19\n",
      "0.750000      17\n",
      "0.714286      15\n",
      "0.700000      13\n",
      "0.625000      11\n",
      "0.555556      10\n",
      "0.400000      10\n",
      "0.375000       9\n",
      "0.125000       9\n",
      "0.200000       9\n",
      "0.300000       9\n",
      "0.250000       8\n",
      "0.100000       8\n",
      "0.285714       8\n",
      "0.142857       7\n",
      "0.444444       7\n",
      "0.166667       7\n",
      "0.600000       6\n",
      "0.222222       5\n",
      "0.428571       5\n",
      "0.111111       5\n",
      "Name: BALANCE_FREQUENCY, dtype: int64\n",
      "\n",
      "\n",
      "Value counts of: PURCHASES_FREQUENCY\n",
      " 1.000000    2178\n",
      "0.000000    2043\n",
      "0.083333     677\n",
      "0.916667     396\n",
      "0.500000     395\n",
      "0.166667     392\n",
      "0.833333     373\n",
      "0.333333     367\n",
      "0.250000     345\n",
      "0.583333     316\n",
      "0.666667     310\n",
      "0.750000     299\n",
      "0.416667     289\n",
      "0.090909      43\n",
      "0.125000      32\n",
      "0.909091      28\n",
      "0.100000      27\n",
      "0.142857      26\n",
      "0.875000      26\n",
      "0.857143      25\n",
      "0.900000      24\n",
      "0.818182      21\n",
      "0.545455      20\n",
      "0.272727      19\n",
      "0.454545      19\n",
      "0.200000      19\n",
      "0.111111      18\n",
      "0.888889      18\n",
      "0.636364      17\n",
      "0.571429      16\n",
      "0.181818      16\n",
      "0.727273      15\n",
      "0.300000      13\n",
      "0.714286      13\n",
      "0.222222      12\n",
      "0.700000      11\n",
      "0.600000      11\n",
      "0.375000      10\n",
      "0.363636      10\n",
      "0.800000       9\n",
      "0.428571       9\n",
      "0.400000       9\n",
      "0.285714       8\n",
      "0.625000       8\n",
      "0.555556       7\n",
      "0.777778       6\n",
      "0.444444       5\n",
      "Name: PURCHASES_FREQUENCY, dtype: int64\n",
      "\n",
      "\n",
      "Value counts of: ONEOFF_PURCHASES_FREQUENCY\n",
      " 0.000000    4302\n",
      "0.083333    1104\n",
      "0.166667     592\n",
      "1.000000     481\n",
      "0.250000     418\n",
      "0.333333     355\n",
      "0.416667     244\n",
      "0.500000     235\n",
      "0.583333     197\n",
      "0.666667     167\n",
      "0.916667     151\n",
      "0.750000     142\n",
      "0.833333     120\n",
      "0.090909      56\n",
      "0.125000      41\n",
      "0.100000      39\n",
      "0.142857      37\n",
      "0.181818      34\n",
      "0.200000      27\n",
      "0.111111      26\n",
      "0.454545      13\n",
      "0.363636      13\n",
      "0.272727      12\n",
      "0.222222      12\n",
      "0.375000      11\n",
      "0.571429      11\n",
      "0.818182      10\n",
      "0.300000      10\n",
      "0.285714       9\n",
      "0.428571       8\n",
      "0.545455       8\n",
      "0.600000       7\n",
      "0.714286       7\n",
      "0.636364       7\n",
      "0.875000       6\n",
      "0.727273       6\n",
      "0.400000       5\n",
      "0.700000       4\n",
      "0.800000       4\n",
      "0.444444       4\n",
      "0.909091       4\n",
      "0.625000       3\n",
      "0.777778       2\n",
      "0.555556       2\n",
      "0.888889       2\n",
      "0.900000       1\n",
      "0.857143       1\n",
      "Name: ONEOFF_PURCHASES_FREQUENCY, dtype: int64\n",
      "\n",
      "\n",
      "Value counts of: PURCHASES_INSTALLMENTS_FREQUENCY\n",
      " 0.000000    3915\n",
      "1.000000    1331\n",
      "0.416667     388\n",
      "0.916667     345\n",
      "0.833333     311\n",
      "0.500000     310\n",
      "0.166667     305\n",
      "0.666667     292\n",
      "0.750000     291\n",
      "0.083333     275\n",
      "0.250000     255\n",
      "0.333333     255\n",
      "0.583333     225\n",
      "0.857143      30\n",
      "0.875000      28\n",
      "0.888889      28\n",
      "0.909091      25\n",
      "0.714286      22\n",
      "0.818182      21\n",
      "0.900000      19\n",
      "0.454545      19\n",
      "0.800000      18\n",
      "0.636364      16\n",
      "0.181818      14\n",
      "0.272727      13\n",
      "0.545455      13\n",
      "0.777778      13\n",
      "0.090909      12\n",
      "0.600000      12\n",
      "0.700000      11\n",
      "0.363636      11\n",
      "0.571429      10\n",
      "0.300000      10\n",
      "0.625000      10\n",
      "0.555556      10\n",
      "0.111111       9\n",
      "0.285714       9\n",
      "0.727273       9\n",
      "0.200000       9\n",
      "0.444444       8\n",
      "0.400000       8\n",
      "0.428571       7\n",
      "0.142857       6\n",
      "0.100000       6\n",
      "0.375000       6\n",
      "0.222222       5\n",
      "0.125000       5\n",
      "Name: PURCHASES_INSTALLMENTS_FREQUENCY, dtype: int64\n"
     ]
    }
   ],
   "source": [
    "for i in cat_cols:\n",
    "    x=df1[i].value_counts()\n",
    "    print(f\"\\n\\nValue counts of: {i}\\n\",x)"
   ]
  },
  {
   "cell_type": "code",
   "execution_count": 13,
   "id": "e14c0c7b",
   "metadata": {},
   "outputs": [
    {
     "data": {
      "text/plain": [
       "1    7996\n",
       "0     954\n",
       "Name: BALANCE_FREQUENCY, dtype: int64"
      ]
     },
     "execution_count": 13,
     "metadata": {},
     "output_type": "execute_result"
    }
   ],
   "source": [
    "df1['BALANCE_FREQUENCY'] = np.where(df1['BALANCE_FREQUENCY'] <= 0.5, 0, 1)\n",
    "df1['BALANCE_FREQUENCY'].value_counts()"
   ]
  },
  {
   "cell_type": "code",
   "execution_count": 14,
   "id": "967ab4d9",
   "metadata": {},
   "outputs": [
    {
     "data": {
      "text/plain": [
       "1    7996\n",
       "0     954\n",
       "Name: BALANCE_FREQUENCY, dtype: int64"
      ]
     },
     "execution_count": 14,
     "metadata": {},
     "output_type": "execute_result"
    }
   ],
   "source": [
    "df1['BALANCE_FREQUENCY'].value_counts()"
   ]
  },
  {
   "cell_type": "code",
   "execution_count": 15,
   "id": "6af8f523",
   "metadata": {},
   "outputs": [
    {
     "data": {
      "text/plain": [
       "0    4803\n",
       "1    4147\n",
       "Name: PURCHASES_FREQUENCY, dtype: int64"
      ]
     },
     "execution_count": 15,
     "metadata": {},
     "output_type": "execute_result"
    }
   ],
   "source": [
    "df1['PURCHASES_FREQUENCY'] = np.where(df1['PURCHASES_FREQUENCY'] <= 0.5, 0, 1)\n",
    "df1['PURCHASES_FREQUENCY'].value_counts()"
   ]
  },
  {
   "cell_type": "code",
   "execution_count": 16,
   "id": "41696e92",
   "metadata": {},
   "outputs": [
    {
     "data": {
      "text/plain": [
       "0    7607\n",
       "1    1343\n",
       "Name: ONEOFF_PURCHASES_FREQUENCY, dtype: int64"
      ]
     },
     "execution_count": 16,
     "metadata": {},
     "output_type": "execute_result"
    }
   ],
   "source": [
    "df1['ONEOFF_PURCHASES_FREQUENCY'] = np.where(df1['ONEOFF_PURCHASES_FREQUENCY'] <= 0.5, 0, 1)\n",
    "df1['ONEOFF_PURCHASES_FREQUENCY'].value_counts()"
   ]
  },
  {
   "cell_type": "code",
   "execution_count": 17,
   "id": "69d5ecdb",
   "metadata": {},
   "outputs": [
    {
     "data": {
      "text/plain": [
       "0    5860\n",
       "1    3090\n",
       "Name: PURCHASES_INSTALLMENTS_FREQUENCY, dtype: int64"
      ]
     },
     "execution_count": 17,
     "metadata": {},
     "output_type": "execute_result"
    }
   ],
   "source": [
    "df1['PURCHASES_INSTALLMENTS_FREQUENCY'] = np.where(df1['PURCHASES_INSTALLMENTS_FREQUENCY'] <= 0.5, 0, 1)\n",
    "df1['PURCHASES_INSTALLMENTS_FREQUENCY'].value_counts()"
   ]
  },
  {
   "cell_type": "code",
   "execution_count": 18,
   "id": "c45f6dd5",
   "metadata": {},
   "outputs": [
    {
     "data": {
      "text/html": [
       "<div>\n",
       "<style scoped>\n",
       "    .dataframe tbody tr th:only-of-type {\n",
       "        vertical-align: middle;\n",
       "    }\n",
       "\n",
       "    .dataframe tbody tr th {\n",
       "        vertical-align: top;\n",
       "    }\n",
       "\n",
       "    .dataframe thead th {\n",
       "        text-align: right;\n",
       "    }\n",
       "</style>\n",
       "<table border=\"1\" class=\"dataframe\">\n",
       "  <thead>\n",
       "    <tr style=\"text-align: right;\">\n",
       "      <th></th>\n",
       "      <th>BALANCE</th>\n",
       "      <th>BALANCE_FREQUENCY</th>\n",
       "      <th>PURCHASES</th>\n",
       "      <th>ONEOFF_PURCHASES</th>\n",
       "      <th>INSTALLMENTS_PURCHASES</th>\n",
       "      <th>CASH_ADVANCE</th>\n",
       "      <th>PURCHASES_FREQUENCY</th>\n",
       "      <th>ONEOFF_PURCHASES_FREQUENCY</th>\n",
       "      <th>PURCHASES_INSTALLMENTS_FREQUENCY</th>\n",
       "      <th>CASH_ADVANCE_FREQUENCY</th>\n",
       "      <th>CASH_ADVANCE_TRX</th>\n",
       "      <th>PURCHASES_TRX</th>\n",
       "      <th>CREDIT_LIMIT</th>\n",
       "      <th>PAYMENTS</th>\n",
       "      <th>MINIMUM_PAYMENTS</th>\n",
       "      <th>PRC_FULL_PAYMENT</th>\n",
       "      <th>TENURE</th>\n",
       "    </tr>\n",
       "  </thead>\n",
       "  <tbody>\n",
       "    <tr>\n",
       "      <th>0</th>\n",
       "      <td>40.900749</td>\n",
       "      <td>1</td>\n",
       "      <td>95.40</td>\n",
       "      <td>0.00</td>\n",
       "      <td>95.4</td>\n",
       "      <td>0.000000</td>\n",
       "      <td>0</td>\n",
       "      <td>0</td>\n",
       "      <td>0</td>\n",
       "      <td>0.000000</td>\n",
       "      <td>0</td>\n",
       "      <td>2</td>\n",
       "      <td>1000.0</td>\n",
       "      <td>201.802084</td>\n",
       "      <td>139.509787</td>\n",
       "      <td>0.000000</td>\n",
       "      <td>12</td>\n",
       "    </tr>\n",
       "    <tr>\n",
       "      <th>1</th>\n",
       "      <td>3202.467416</td>\n",
       "      <td>1</td>\n",
       "      <td>0.00</td>\n",
       "      <td>0.00</td>\n",
       "      <td>0.0</td>\n",
       "      <td>6442.945483</td>\n",
       "      <td>0</td>\n",
       "      <td>0</td>\n",
       "      <td>0</td>\n",
       "      <td>0.250000</td>\n",
       "      <td>4</td>\n",
       "      <td>0</td>\n",
       "      <td>7000.0</td>\n",
       "      <td>4103.032597</td>\n",
       "      <td>1072.340217</td>\n",
       "      <td>0.222222</td>\n",
       "      <td>12</td>\n",
       "    </tr>\n",
       "    <tr>\n",
       "      <th>2</th>\n",
       "      <td>2495.148862</td>\n",
       "      <td>1</td>\n",
       "      <td>773.17</td>\n",
       "      <td>773.17</td>\n",
       "      <td>0.0</td>\n",
       "      <td>0.000000</td>\n",
       "      <td>1</td>\n",
       "      <td>1</td>\n",
       "      <td>0</td>\n",
       "      <td>0.000000</td>\n",
       "      <td>0</td>\n",
       "      <td>12</td>\n",
       "      <td>7500.0</td>\n",
       "      <td>622.066742</td>\n",
       "      <td>627.284787</td>\n",
       "      <td>0.000000</td>\n",
       "      <td>12</td>\n",
       "    </tr>\n",
       "    <tr>\n",
       "      <th>3</th>\n",
       "      <td>1666.670542</td>\n",
       "      <td>1</td>\n",
       "      <td>1499.00</td>\n",
       "      <td>1499.00</td>\n",
       "      <td>0.0</td>\n",
       "      <td>205.788017</td>\n",
       "      <td>0</td>\n",
       "      <td>0</td>\n",
       "      <td>0</td>\n",
       "      <td>0.083333</td>\n",
       "      <td>1</td>\n",
       "      <td>1</td>\n",
       "      <td>7500.0</td>\n",
       "      <td>0.000000</td>\n",
       "      <td>NaN</td>\n",
       "      <td>0.000000</td>\n",
       "      <td>12</td>\n",
       "    </tr>\n",
       "    <tr>\n",
       "      <th>4</th>\n",
       "      <td>817.714335</td>\n",
       "      <td>1</td>\n",
       "      <td>16.00</td>\n",
       "      <td>16.00</td>\n",
       "      <td>0.0</td>\n",
       "      <td>0.000000</td>\n",
       "      <td>0</td>\n",
       "      <td>0</td>\n",
       "      <td>0</td>\n",
       "      <td>0.000000</td>\n",
       "      <td>0</td>\n",
       "      <td>1</td>\n",
       "      <td>1200.0</td>\n",
       "      <td>678.334763</td>\n",
       "      <td>244.791237</td>\n",
       "      <td>0.000000</td>\n",
       "      <td>12</td>\n",
       "    </tr>\n",
       "  </tbody>\n",
       "</table>\n",
       "</div>"
      ],
      "text/plain": [
       "       BALANCE  BALANCE_FREQUENCY  PURCHASES  ONEOFF_PURCHASES  \\\n",
       "0    40.900749                  1      95.40              0.00   \n",
       "1  3202.467416                  1       0.00              0.00   \n",
       "2  2495.148862                  1     773.17            773.17   \n",
       "3  1666.670542                  1    1499.00           1499.00   \n",
       "4   817.714335                  1      16.00             16.00   \n",
       "\n",
       "   INSTALLMENTS_PURCHASES  CASH_ADVANCE  PURCHASES_FREQUENCY  \\\n",
       "0                    95.4      0.000000                    0   \n",
       "1                     0.0   6442.945483                    0   \n",
       "2                     0.0      0.000000                    1   \n",
       "3                     0.0    205.788017                    0   \n",
       "4                     0.0      0.000000                    0   \n",
       "\n",
       "   ONEOFF_PURCHASES_FREQUENCY  PURCHASES_INSTALLMENTS_FREQUENCY  \\\n",
       "0                           0                                 0   \n",
       "1                           0                                 0   \n",
       "2                           1                                 0   \n",
       "3                           0                                 0   \n",
       "4                           0                                 0   \n",
       "\n",
       "   CASH_ADVANCE_FREQUENCY  CASH_ADVANCE_TRX  PURCHASES_TRX  CREDIT_LIMIT  \\\n",
       "0                0.000000                 0              2        1000.0   \n",
       "1                0.250000                 4              0        7000.0   \n",
       "2                0.000000                 0             12        7500.0   \n",
       "3                0.083333                 1              1        7500.0   \n",
       "4                0.000000                 0              1        1200.0   \n",
       "\n",
       "      PAYMENTS  MINIMUM_PAYMENTS  PRC_FULL_PAYMENT  TENURE  \n",
       "0   201.802084        139.509787          0.000000      12  \n",
       "1  4103.032597       1072.340217          0.222222      12  \n",
       "2   622.066742        627.284787          0.000000      12  \n",
       "3     0.000000               NaN          0.000000      12  \n",
       "4   678.334763        244.791237          0.000000      12  "
      ]
     },
     "execution_count": 18,
     "metadata": {},
     "output_type": "execute_result"
    }
   ],
   "source": [
    "df1.head()"
   ]
  },
  {
   "cell_type": "code",
   "execution_count": 19,
   "id": "1bfbc511",
   "metadata": {},
   "outputs": [
    {
     "name": "stdout",
     "output_type": "stream",
     "text": [
      "\n",
      "\n",
      "Value counts of: BALANCE_FREQUENCY\n",
      " 1    7996\n",
      "0     954\n",
      "Name: BALANCE_FREQUENCY, dtype: int64\n",
      "\n",
      "\n",
      "Value counts of: PURCHASES_FREQUENCY\n",
      " 0    4803\n",
      "1    4147\n",
      "Name: PURCHASES_FREQUENCY, dtype: int64\n",
      "\n",
      "\n",
      "Value counts of: ONEOFF_PURCHASES_FREQUENCY\n",
      " 0    7607\n",
      "1    1343\n",
      "Name: ONEOFF_PURCHASES_FREQUENCY, dtype: int64\n",
      "\n",
      "\n",
      "Value counts of: PURCHASES_INSTALLMENTS_FREQUENCY\n",
      " 0    5860\n",
      "1    3090\n",
      "Name: PURCHASES_INSTALLMENTS_FREQUENCY, dtype: int64\n"
     ]
    }
   ],
   "source": [
    "for i in cat_cols:\n",
    "    x=df1[i].value_counts()\n",
    "    print(f\"\\n\\nValue counts of: {i}\\n\",x)"
   ]
  },
  {
   "cell_type": "code",
   "execution_count": 20,
   "id": "e9b1cdb8",
   "metadata": {},
   "outputs": [
    {
     "name": "stdout",
     "output_type": "stream",
     "text": [
      "0.8934078212290503\n",
      "0.10659217877094972\n",
      "0.5366480446927374\n",
      "0.4633519553072626\n",
      "0.8499441340782123\n",
      "0.1500558659217877\n",
      "0.6547486033519553\n",
      "0.3452513966480447\n"
     ]
    }
   ],
   "source": [
    "print(7996/8950)\n",
    "print(954/8950)\n",
    "\n",
    "print(4803/8950)\n",
    "print(4147/8950)\n",
    "\n",
    "print(7607/8950)\n",
    "print(1343/8950)\n",
    "\n",
    "print(5860/8950)\n",
    "print(3090/8950)"
   ]
  },
  {
   "cell_type": "markdown",
   "id": "bc542eac",
   "metadata": {},
   "source": [
    "## Univariate Analysis on Categorical Variables\n",
    "\n",
    "* 1) BALANCEFREQUENCY : 1 = frequently updated, 0 = not frequently updated)\n",
    "* 1.a. There are 89% people who frequently update the balance and 10% are the ones who do not.\n",
    "\n",
    "\n",
    "\n",
    "\n",
    "\n",
    "\n",
    "* 2) PURCHASESFREQUENCY : 1 = frequently purchased, 0 = not frequently purchased\n",
    "* 2.a. There is almost a balance between the ones who frequenctly purchase and the ones who do not frequently purchase, althought the ones who do not frequently purchase are in majority with 53%.\n",
    "\n",
    "\n",
    "\n",
    "\n",
    "\n",
    "\n",
    "\n",
    "* 3) ONEOFFPURCHASESFREQUENCY : 1 = frequently purchased, 0 = not frequently purchased\n",
    "* 3.a. Only 15% of purchases are being done in one go as we can see from the graph.\n",
    "\n",
    "\n",
    "\n",
    "\n",
    "\n",
    "\n",
    "* 4) PURCHASESINSTALLMENTSFREQUENCY : 1 = frequently done, 0 = not frequently done\n",
    "* 4.a. Only 34% of purchases are being done in installment."
   ]
  },
  {
   "cell_type": "code",
   "execution_count": 21,
   "id": "05486d9c",
   "metadata": {},
   "outputs": [
    {
     "data": {
      "image/png": "[encoded data removed]",
      "text/plain": [
       "<Figure size 432x288 with 1 Axes>"
      ]
     },
     "metadata": {
      "needs_background": "light"
     },
     "output_type": "display_data"
    },
    {
     "data": {
      "image/png": "[encoded data removed]",
      "text/plain": [
       "<Figure size 432x288 with 1 Axes>"
      ]
     },
     "metadata": {
      "needs_background": "light"
     },
     "output_type": "display_data"
    },
    {
     "data": {
      "image/png": "[encoded data removed]",
      "text/plain": [
       "<Figure size 432x288 with 1 Axes>"
      ]
     },
     "metadata": {
      "needs_background": "light"
     },
     "output_type": "display_data"
    },
    {
     "data": {
      "image/png": "[encoded data removed]",
      "text/plain": [
       "<Figure size 432x288 with 1 Axes>"
      ]
     },
     "metadata": {
      "needs_background": "light"
     },
     "output_type": "display_data"
    }
   ],
   "source": [
    "for i in cat_cols:\n",
    "    sns.countplot(x=df1[i])\n",
    "    plt.xticks(rotation=90)\n",
    "    plt.show()"
   ]
  },
  {
   "cell_type": "markdown",
   "id": "267f0309",
   "metadata": {},
   "source": [
    "### Q2. Perform the following Exploratory Data Analysis tasks:\n",
    "a. Missing Value Analysis<br>\n",
    "b. Outlier Treatment<br>\n",
    "c. Deal with correlated variables<br>"
   ]
  },
  {
   "cell_type": "markdown",
   "id": "06e3c1bc",
   "metadata": {},
   "source": [
    "### Missing Value Treatment"
   ]
  },
  {
   "cell_type": "code",
   "execution_count": 21,
   "id": "4a12446e",
   "metadata": {},
   "outputs": [
    {
     "data": {
      "text/plain": [
       "BALANCE                               0\n",
       "BALANCE_FREQUENCY                     0\n",
       "PURCHASES                             0\n",
       "ONEOFF_PURCHASES                      0\n",
       "INSTALLMENTS_PURCHASES                0\n",
       "CASH_ADVANCE                          0\n",
       "PURCHASES_FREQUENCY                   0\n",
       "ONEOFF_PURCHASES_FREQUENCY            0\n",
       "PURCHASES_INSTALLMENTS_FREQUENCY      0\n",
       "CASH_ADVANCE_FREQUENCY                0\n",
       "CASH_ADVANCE_TRX                      0\n",
       "PURCHASES_TRX                         0\n",
       "CREDIT_LIMIT                          1\n",
       "PAYMENTS                              0\n",
       "MINIMUM_PAYMENTS                    313\n",
       "PRC_FULL_PAYMENT                      0\n",
       "TENURE                                0\n",
       "dtype: int64"
      ]
     },
     "execution_count": 21,
     "metadata": {},
     "output_type": "execute_result"
    }
   ],
   "source": [
    "df1.isnull().sum()"
   ]
  },
  {
   "cell_type": "code",
   "execution_count": 22,
   "id": "ac0207dd",
   "metadata": {},
   "outputs": [],
   "source": [
    "df1['CREDIT_LIMIT'].fillna(df1['CREDIT_LIMIT'].median(),inplace=True)\n",
    "df1['MINIMUM_PAYMENTS'].fillna(df1['MINIMUM_PAYMENTS'].median(),inplace=True)"
   ]
  },
  {
   "cell_type": "code",
   "execution_count": 23,
   "id": "e3ce0b16",
   "metadata": {},
   "outputs": [
    {
     "data": {
      "text/plain": [
       "BALANCE                             0\n",
       "BALANCE_FREQUENCY                   0\n",
       "PURCHASES                           0\n",
       "ONEOFF_PURCHASES                    0\n",
       "INSTALLMENTS_PURCHASES              0\n",
       "CASH_ADVANCE                        0\n",
       "PURCHASES_FREQUENCY                 0\n",
       "ONEOFF_PURCHASES_FREQUENCY          0\n",
       "PURCHASES_INSTALLMENTS_FREQUENCY    0\n",
       "CASH_ADVANCE_FREQUENCY              0\n",
       "CASH_ADVANCE_TRX                    0\n",
       "PURCHASES_TRX                       0\n",
       "CREDIT_LIMIT                        0\n",
       "PAYMENTS                            0\n",
       "MINIMUM_PAYMENTS                    0\n",
       "PRC_FULL_PAYMENT                    0\n",
       "TENURE                              0\n",
       "dtype: int64"
      ]
     },
     "execution_count": 23,
     "metadata": {},
     "output_type": "execute_result"
    }
   ],
   "source": [
    "df1.isnull().sum()"
   ]
  },
  {
   "cell_type": "markdown",
   "id": "146efb12",
   "metadata": {},
   "source": [
    "### Outlier Treatment"
   ]
  },
  {
   "cell_type": "code",
   "execution_count": 24,
   "id": "93d345b1",
   "metadata": {},
   "outputs": [
    {
     "data": {
      "text/plain": [
       "Index(['BALANCE', 'BALANCE_FREQUENCY', 'PURCHASES', 'ONEOFF_PURCHASES',\n",
       "       'INSTALLMENTS_PURCHASES', 'CASH_ADVANCE', 'PURCHASES_FREQUENCY',\n",
       "       'ONEOFF_PURCHASES_FREQUENCY', 'PURCHASES_INSTALLMENTS_FREQUENCY',\n",
       "       'CASH_ADVANCE_FREQUENCY', 'CASH_ADVANCE_TRX', 'PURCHASES_TRX',\n",
       "       'CREDIT_LIMIT', 'PAYMENTS', 'MINIMUM_PAYMENTS', 'PRC_FULL_PAYMENT',\n",
       "       'TENURE'],\n",
       "      dtype='object')"
      ]
     },
     "execution_count": 24,
     "metadata": {},
     "output_type": "execute_result"
    }
   ],
   "source": [
    "df1.columns"
   ]
  },
  {
   "cell_type": "code",
   "execution_count": 25,
   "id": "e8865692",
   "metadata": {},
   "outputs": [],
   "source": [
    "num_cols=['BALANCE', 'PURCHASES', 'ONEOFF_PURCHASES',\n",
    "       'INSTALLMENTS_PURCHASES', 'CASH_ADVANCE',\n",
    "       'CASH_ADVANCE_FREQUENCY', 'CASH_ADVANCE_TRX', 'PURCHASES_TRX',\n",
    "       'CREDIT_LIMIT', 'PAYMENTS', 'MINIMUM_PAYMENTS', 'PRC_FULL_PAYMENT',\n",
    "       'TENURE']"
   ]
  },
  {
   "cell_type": "markdown",
   "id": "399b0dd3",
   "metadata": {},
   "source": [
    "### `There are Outliers(mostly on the upper bound) in all the columns mentioned in num_cols`"
   ]
  },
  {
   "cell_type": "code",
   "execution_count": 26,
   "id": "62bcde98",
   "metadata": {},
   "outputs": [
    {
     "data": {
      "image/png": "[encoded data removed]",
      "text/plain": [
       "<Figure size 432x288 with 1 Axes>"
      ]
     },
     "metadata": {
      "needs_background": "light"
     },
     "output_type": "display_data"
    },
    {
     "data": {
      "image/png": "[encoded data removed]",
      "text/plain": [
       "<Figure size 432x288 with 1 Axes>"
      ]
     },
     "metadata": {
      "needs_background": "light"
     },
     "output_type": "display_data"
    },
    {
     "data": {
      "image/png": "[encoded data removed]",
      "text/plain": [
       "<Figure size 432x288 with 1 Axes>"
      ]
     },
     "metadata": {
      "needs_background": "light"
     },
     "output_type": "display_data"
    },
    {
     "data": {
      "image/png": "[encoded data removed]",
      "text/plain": [
       "<Figure size 432x288 with 1 Axes>"
      ]
     },
     "metadata": {
      "needs_background": "light"
     },
     "output_type": "display_data"
    },
    {
     "data": {
      "image/png": "[encoded data removed]",
      "text/plain": [
       "<Figure size 432x288 with 1 Axes>"
      ]
     },
     "metadata": {
      "needs_background": "light"
     },
     "output_type": "display_data"
    },
    {
     "data": {
      "image/png": "[encoded data removed]",
      "text/plain": [
       "<Figure size 432x288 with 1 Axes>"
      ]
     },
     "metadata": {
      "needs_background": "light"
     },
     "output_type": "display_data"
    },
    {
     "data": {
      "image/png": "[encoded data removed]",
      "text/plain": [
       "<Figure size 432x288 with 1 Axes>"
      ]
     },
     "metadata": {
      "needs_background": "light"
     },
     "output_type": "display_data"
    },
    {
     "data": {
      "image/png": "[encoded data removed]",
      "text/plain": [
       "<Figure size 432x288 with 1 Axes>"
      ]
     },
     "metadata": {
      "needs_background": "light"
     },
     "output_type": "display_data"
    },
    {
     "data": {
      "image/png": "[encoded data removed]",
      "text/plain": [
       "<Figure size 432x288 with 1 Axes>"
      ]
     },
     "metadata": {
      "needs_background": "light"
     },
     "output_type": "display_data"
    },
    {
     "data": {
      "image/png": "[encoded data removed]",
      "text/plain": [
       "<Figure size 432x288 with 1 Axes>"
      ]
     },
     "metadata": {
      "needs_background": "light"
     },
     "output_type": "display_data"
    },
    {
     "data": {
      "image/png": "[encoded data removed]",
      "text/plain": [
       "<Figure size 432x288 with 1 Axes>"
      ]
     },
     "metadata": {
      "needs_background": "light"
     },
     "output_type": "display_data"
    },
    {
     "data": {
      "image/png": "[encoded data removed]",
      "text/plain": [
       "<Figure size 432x288 with 1 Axes>"
      ]
     },
     "metadata": {
      "needs_background": "light"
     },
     "output_type": "display_data"
    },
    {
     "data": {
      "image/png": "[encoded data removed]",
      "text/plain": [
       "<Figure size 432x288 with 1 Axes>"
      ]
     },
     "metadata": {
      "needs_background": "light"
     },
     "output_type": "display_data"
    }
   ],
   "source": [
    "for i in num_cols:\n",
    "    sns.boxplot(x=df1[i])\n",
    "    plt.show()"
   ]
  },
  {
   "cell_type": "code",
   "execution_count": 27,
   "id": "ed2c26ab",
   "metadata": {},
   "outputs": [],
   "source": [
    "colsForOutliers=['BALANCE', 'PURCHASES', 'ONEOFF_PURCHASES',\n",
    "       'INSTALLMENTS_PURCHASES', 'CASH_ADVANCE',\n",
    "       'CASH_ADVANCE_FREQUENCY', 'CASH_ADVANCE_TRX', 'PURCHASES_TRX',\n",
    "       'CREDIT_LIMIT', 'PAYMENTS', 'MINIMUM_PAYMENTS', 'PRC_FULL_PAYMENT',\n",
    "       'TENURE']"
   ]
  },
  {
   "cell_type": "code",
   "execution_count": 31,
   "id": "a2ee2db7",
   "metadata": {},
   "outputs": [],
   "source": [
    "def outliers_treatment(x):\n",
    "    x=x.clip(upper=x.quantile(0.89))\n",
    "    x=x.clip(lower=x.quantile(0.1))\n",
    "    return x"
   ]
  },
  {
   "cell_type": "code",
   "execution_count": 32,
   "id": "fdb83192",
   "metadata": {},
   "outputs": [],
   "source": [
    "df1[colsForOutliers]=df1[colsForOutliers].apply(outliers_treatment)"
   ]
  },
  {
   "cell_type": "markdown",
   "id": "9d96732e",
   "metadata": {},
   "source": [
    "### `We've removed maximum number of outliers by keeping the upper bound as 0.89 and lower as 0.1`"
   ]
  },
  {
   "cell_type": "code",
   "execution_count": 33,
   "id": "274efff8",
   "metadata": {},
   "outputs": [
    {
     "data": {
      "image/png": "[encoded data removed]",
      "text/plain": [
       "<Figure size 432x288 with 1 Axes>"
      ]
     },
     "metadata": {
      "needs_background": "light"
     },
     "output_type": "display_data"
    },
    {
     "data": {
      "image/png": "[encoded data removed]",
      "text/plain": [
       "<Figure size 432x288 with 1 Axes>"
      ]
     },
     "metadata": {
      "needs_background": "light"
     },
     "output_type": "display_data"
    },
    {
     "data": {
      "image/png": "[encoded data removed]",
      "text/plain": [
       "<Figure size 432x288 with 1 Axes>"
      ]
     },
     "metadata": {
      "needs_background": "light"
     },
     "output_type": "display_data"
    },
    {
     "data": {
      "image/png": "[encoded data removed]",
      "text/plain": [
       "<Figure size 432x288 with 1 Axes>"
      ]
     },
     "metadata": {
      "needs_background": "light"
     },
     "output_type": "display_data"
    },
    {
     "data": {
      "image/png": "[encoded data removed]",
      "text/plain": [
       "<Figure size 432x288 with 1 Axes>"
      ]
     },
     "metadata": {
      "needs_background": "light"
     },
     "output_type": "display_data"
    },
    {
     "data": {
      "image/png": "[encoded data removed]",
      "text/plain": [
       "<Figure size 432x288 with 1 Axes>"
      ]
     },
     "metadata": {
      "needs_background": "light"
     },
     "output_type": "display_data"
    },
    {
     "data": {
      "image/png": "[encoded data removed]",
      "text/plain": [
       "<Figure size 432x288 with 1 Axes>"
      ]
     },
     "metadata": {
      "needs_background": "light"
     },
     "output_type": "display_data"
    },
    {
     "data": {
      "image/png": "[encoded data removed]",
      "text/plain": [
       "<Figure size 432x288 with 1 Axes>"
      ]
     },
     "metadata": {
      "needs_background": "light"
     },
     "output_type": "display_data"
    },
    {
     "data": {
      "image/png": "[encoded data removed]",
      "text/plain": [
       "<Figure size 432x288 with 1 Axes>"
      ]
     },
     "metadata": {
      "needs_background": "light"
     },
     "output_type": "display_data"
    },
    {
     "data": {
      "image/png": "[encoded data removed]",
      "text/plain": [
       "<Figure size 432x288 with 1 Axes>"
      ]
     },
     "metadata": {
      "needs_background": "light"
     },
     "output_type": "display_data"
    },
    {
     "data": {
      "image/png": "[encoded data removed]",
      "text/plain": [
       "<Figure size 432x288 with 1 Axes>"
      ]
     },
     "metadata": {
      "needs_background": "light"
     },
     "output_type": "display_data"
    },
    {
     "data": {
      "image/png": "[encoded data removed]",
      "text/plain": [
       "<Figure size 432x288 with 1 Axes>"
      ]
     },
     "metadata": {
      "needs_background": "light"
     },
     "output_type": "display_data"
    },
    {
     "data": {
      "image/png": "[encoded data removed]",
      "text/plain": [
       "<Figure size 432x288 with 1 Axes>"
      ]
     },
     "metadata": {
      "needs_background": "light"
     },
     "output_type": "display_data"
    }
   ],
   "source": [
    "for i in num_cols:\n",
    "    sns.boxplot(x=df1[i])\n",
    "    plt.show()"
   ]
  },
  {
   "cell_type": "markdown",
   "id": "d33e54e7",
   "metadata": {},
   "source": [
    "### Correlated Variables"
   ]
  },
  {
   "cell_type": "code",
   "execution_count": 34,
   "id": "9abb1c6e",
   "metadata": {},
   "outputs": [
    {
     "data": {
      "image/png": "[encoded data removed]",
      "text/plain": [
       "<Figure size 1080x1080 with 2 Axes>"
      ]
     },
     "metadata": {
      "needs_background": "light"
     },
     "output_type": "display_data"
    }
   ],
   "source": [
    "corr=df1.corr()\n",
    "plt.figure(figsize=(15,15))\n",
    "sns.heatmap(corr,annot=True)\n",
    "plt.show()"
   ]
  },
  {
   "cell_type": "markdown",
   "id": "bce4fc7a",
   "metadata": {},
   "source": [
    "### Dropping columns with high correlation "
   ]
  },
  {
   "cell_type": "code",
   "execution_count": 35,
   "id": "4e5e853f",
   "metadata": {},
   "outputs": [
    {
     "name": "stdout",
     "output_type": "stream",
     "text": [
      "['CASH_ADVANCE_FREQUENCY', 'PURCHASES_INSTALLMENTS_FREQUENCY', 'MINIMUM_PAYMENTS', 'INSTALLMENTS_PURCHASES', 'PURCHASES_TRX', 'CASH_ADVANCE_TRX', 'ONEOFF_PURCHASES']\n"
     ]
    }
   ],
   "source": [
    "def high_corr_feat(corr,thresh):\n",
    "    corr = df1.corr()\n",
    "    res = []\n",
    "    for i in range(len(corr.columns)): \n",
    "        for j in range(i):\n",
    "            if corr.iloc[i,j] >= thresh:\n",
    "                res.append(corr.columns[i])\n",
    "    res = list(set(res))\n",
    "    return res\n",
    "    \n",
    "feat_to_drop = high_corr_feat(corr,0.7)\n",
    "print(feat_to_drop)"
   ]
  },
  {
   "cell_type": "code",
   "execution_count": 36,
   "id": "96197087",
   "metadata": {},
   "outputs": [],
   "source": [
    "df1.drop(columns=['CASH_ADVANCE_TRX','CASH_ADVANCE_TRX','CASH_ADVANCE_FREQUENCY','CASH_ADVANCE'],inplace=True)"
   ]
  },
  {
   "cell_type": "code",
   "execution_count": 52,
   "id": "8d00c4b7",
   "metadata": {},
   "outputs": [],
   "source": [
    "df1.drop(columns=['PRC_FULL_PAYMENT'],inplace=True)"
   ]
  },
  {
   "cell_type": "markdown",
   "id": "926d1035",
   "metadata": {},
   "source": [
    "### Q3. Perform dimensionality reduction using PCA such that the 95% of the variance is explained."
   ]
  },
  {
   "cell_type": "markdown",
   "id": "15d6ece5",
   "metadata": {},
   "source": [
    "#### Applying PCA "
   ]
  },
  {
   "cell_type": "code",
   "execution_count": 53,
   "id": "d136f37a",
   "metadata": {},
   "outputs": [],
   "source": [
    "from sklearn.decomposition import PCA"
   ]
  },
  {
   "cell_type": "code",
   "execution_count": 54,
   "id": "6ee0d86b",
   "metadata": {},
   "outputs": [
    {
     "data": {
      "text/html": [
       "<div>\n",
       "<style scoped>\n",
       "    .dataframe tbody tr th:only-of-type {\n",
       "        vertical-align: middle;\n",
       "    }\n",
       "\n",
       "    .dataframe tbody tr th {\n",
       "        vertical-align: top;\n",
       "    }\n",
       "\n",
       "    .dataframe thead th {\n",
       "        text-align: right;\n",
       "    }\n",
       "</style>\n",
       "<table border=\"1\" class=\"dataframe\">\n",
       "  <thead>\n",
       "    <tr style=\"text-align: right;\">\n",
       "      <th></th>\n",
       "      <th>BALANCE</th>\n",
       "      <th>BALANCE_FREQUENCY</th>\n",
       "      <th>PURCHASES</th>\n",
       "      <th>ONEOFF_PURCHASES</th>\n",
       "      <th>INSTALLMENTS_PURCHASES</th>\n",
       "      <th>PURCHASES_FREQUENCY</th>\n",
       "      <th>ONEOFF_PURCHASES_FREQUENCY</th>\n",
       "      <th>PURCHASES_INSTALLMENTS_FREQUENCY</th>\n",
       "      <th>PURCHASES_TRX</th>\n",
       "      <th>CREDIT_LIMIT</th>\n",
       "      <th>PAYMENTS</th>\n",
       "      <th>MINIMUM_PAYMENTS</th>\n",
       "      <th>TENURE</th>\n",
       "    </tr>\n",
       "  </thead>\n",
       "  <tbody>\n",
       "    <tr>\n",
       "      <th>0</th>\n",
       "      <td>40.900749</td>\n",
       "      <td>1</td>\n",
       "      <td>95.40</td>\n",
       "      <td>0.000000</td>\n",
       "      <td>95.4</td>\n",
       "      <td>0</td>\n",
       "      <td>0</td>\n",
       "      <td>0</td>\n",
       "      <td>2.0</td>\n",
       "      <td>1200.0</td>\n",
       "      <td>201.802084</td>\n",
       "      <td>139.509787</td>\n",
       "      <td>12.0</td>\n",
       "    </tr>\n",
       "    <tr>\n",
       "      <th>1</th>\n",
       "      <td>3202.467416</td>\n",
       "      <td>1</td>\n",
       "      <td>0.00</td>\n",
       "      <td>0.000000</td>\n",
       "      <td>0.0</td>\n",
       "      <td>0</td>\n",
       "      <td>0</td>\n",
       "      <td>0</td>\n",
       "      <td>0.0</td>\n",
       "      <td>7000.0</td>\n",
       "      <td>3725.907756</td>\n",
       "      <td>1072.340217</td>\n",
       "      <td>12.0</td>\n",
       "    </tr>\n",
       "    <tr>\n",
       "      <th>2</th>\n",
       "      <td>2495.148862</td>\n",
       "      <td>1</td>\n",
       "      <td>773.17</td>\n",
       "      <td>773.170000</td>\n",
       "      <td>0.0</td>\n",
       "      <td>1</td>\n",
       "      <td>1</td>\n",
       "      <td>0</td>\n",
       "      <td>12.0</td>\n",
       "      <td>7500.0</td>\n",
       "      <td>622.066742</td>\n",
       "      <td>627.284787</td>\n",
       "      <td>12.0</td>\n",
       "    </tr>\n",
       "    <tr>\n",
       "      <th>3</th>\n",
       "      <td>1666.670542</td>\n",
       "      <td>1</td>\n",
       "      <td>1499.00</td>\n",
       "      <td>1480.684652</td>\n",
       "      <td>0.0</td>\n",
       "      <td>0</td>\n",
       "      <td>0</td>\n",
       "      <td>0</td>\n",
       "      <td>1.0</td>\n",
       "      <td>7500.0</td>\n",
       "      <td>179.617069</td>\n",
       "      <td>312.343947</td>\n",
       "      <td>12.0</td>\n",
       "    </tr>\n",
       "    <tr>\n",
       "      <th>4</th>\n",
       "      <td>817.714335</td>\n",
       "      <td>1</td>\n",
       "      <td>16.00</td>\n",
       "      <td>16.000000</td>\n",
       "      <td>0.0</td>\n",
       "      <td>0</td>\n",
       "      <td>0</td>\n",
       "      <td>0</td>\n",
       "      <td>1.0</td>\n",
       "      <td>1200.0</td>\n",
       "      <td>678.334763</td>\n",
       "      <td>244.791237</td>\n",
       "      <td>12.0</td>\n",
       "    </tr>\n",
       "  </tbody>\n",
       "</table>\n",
       "</div>"
      ],
      "text/plain": [
       "       BALANCE  BALANCE_FREQUENCY  PURCHASES  ONEOFF_PURCHASES  \\\n",
       "0    40.900749                  1      95.40          0.000000   \n",
       "1  3202.467416                  1       0.00          0.000000   \n",
       "2  2495.148862                  1     773.17        773.170000   \n",
       "3  1666.670542                  1    1499.00       1480.684652   \n",
       "4   817.714335                  1      16.00         16.000000   \n",
       "\n",
       "   INSTALLMENTS_PURCHASES  PURCHASES_FREQUENCY  ONEOFF_PURCHASES_FREQUENCY  \\\n",
       "0                    95.4                    0                           0   \n",
       "1                     0.0                    0                           0   \n",
       "2                     0.0                    1                           1   \n",
       "3                     0.0                    0                           0   \n",
       "4                     0.0                    0                           0   \n",
       "\n",
       "   PURCHASES_INSTALLMENTS_FREQUENCY  PURCHASES_TRX  CREDIT_LIMIT     PAYMENTS  \\\n",
       "0                                 0            2.0        1200.0   201.802084   \n",
       "1                                 0            0.0        7000.0  3725.907756   \n",
       "2                                 0           12.0        7500.0   622.066742   \n",
       "3                                 0            1.0        7500.0   179.617069   \n",
       "4                                 0            1.0        1200.0   678.334763   \n",
       "\n",
       "   MINIMUM_PAYMENTS  TENURE  \n",
       "0        139.509787    12.0  \n",
       "1       1072.340217    12.0  \n",
       "2        627.284787    12.0  \n",
       "3        312.343947    12.0  \n",
       "4        244.791237    12.0  "
      ]
     },
     "execution_count": 54,
     "metadata": {},
     "output_type": "execute_result"
    }
   ],
   "source": [
    "df1.head()"
   ]
  },
  {
   "cell_type": "code",
   "execution_count": 55,
   "id": "a68f3553",
   "metadata": {},
   "outputs": [
    {
     "name": "stdout",
     "output_type": "stream",
     "text": [
      "(8950, 12)\n",
      "(8950,)\n"
     ]
    }
   ],
   "source": [
    "x = df1.drop('PURCHASES',axis=1)\n",
    "y = df1['PURCHASES']\n",
    "print(x.shape)\n",
    "print(y.shape)"
   ]
  },
  {
   "cell_type": "code",
   "execution_count": 56,
   "id": "52242b66",
   "metadata": {},
   "outputs": [
    {
     "name": "stdout",
     "output_type": "stream",
     "text": [
      "(6712, 12)\n",
      "(2238, 12)\n",
      "(6712,)\n",
      "(2238,)\n"
     ]
    }
   ],
   "source": [
    "from sklearn.model_selection import train_test_split\n",
    "x_train,x_test,y_train,y_test = train_test_split(x,y,test_size=0.25,random_state=42)\n",
    "print(x_train.shape)\n",
    "print(x_test.shape)\n",
    "print(y_train.shape)\n",
    "print(y_test.shape)"
   ]
  },
  {
   "cell_type": "markdown",
   "id": "d85e3ebc",
   "metadata": {},
   "source": [
    "#### Applying Standardization"
   ]
  },
  {
   "cell_type": "code",
   "execution_count": 57,
   "id": "21e0bfee",
   "metadata": {},
   "outputs": [],
   "source": [
    "sc = StandardScaler()\n",
    "x_train_sc = sc.fit_transform(x_train) \n",
    "x_test_sc = sc.transform(x_test) "
   ]
  },
  {
   "cell_type": "markdown",
   "id": "a09605cb",
   "metadata": {},
   "source": [
    "#### We're trying to explain 95% variance through PCA"
   ]
  },
  {
   "cell_type": "code",
   "execution_count": 58,
   "id": "f9742007",
   "metadata": {},
   "outputs": [
    {
     "name": "stdout",
     "output_type": "stream",
     "text": [
      "(6712, 9)\n",
      "(2238, 9)\n"
     ]
    }
   ],
   "source": [
    "pca = PCA(n_components=0.95)\n",
    "pc_x_train = pca.fit_transform(x_train_sc)\n",
    "pc_x_test = pca.transform(x_test_sc)\n",
    "print(pc_x_train.shape)\n",
    "print(pc_x_test.shape)"
   ]
  },
  {
   "cell_type": "code",
   "execution_count": 59,
   "id": "3012c77a",
   "metadata": {},
   "outputs": [
    {
     "data": {
      "text/html": [
       "<div>\n",
       "<style scoped>\n",
       "    .dataframe tbody tr th:only-of-type {\n",
       "        vertical-align: middle;\n",
       "    }\n",
       "\n",
       "    .dataframe tbody tr th {\n",
       "        vertical-align: top;\n",
       "    }\n",
       "\n",
       "    .dataframe thead th {\n",
       "        text-align: right;\n",
       "    }\n",
       "</style>\n",
       "<table border=\"1\" class=\"dataframe\">\n",
       "  <thead>\n",
       "    <tr style=\"text-align: right;\">\n",
       "      <th></th>\n",
       "      <th>Var</th>\n",
       "    </tr>\n",
       "  </thead>\n",
       "  <tbody>\n",
       "    <tr>\n",
       "      <th>0</th>\n",
       "      <td>4.050004</td>\n",
       "    </tr>\n",
       "    <tr>\n",
       "      <th>1</th>\n",
       "      <td>2.416801</td>\n",
       "    </tr>\n",
       "    <tr>\n",
       "      <th>2</th>\n",
       "      <td>1.372857</td>\n",
       "    </tr>\n",
       "    <tr>\n",
       "      <th>3</th>\n",
       "      <td>0.998194</td>\n",
       "    </tr>\n",
       "    <tr>\n",
       "      <th>4</th>\n",
       "      <td>0.905255</td>\n",
       "    </tr>\n",
       "  </tbody>\n",
       "</table>\n",
       "</div>"
      ],
      "text/plain": [
       "        Var\n",
       "0  4.050004\n",
       "1  2.416801\n",
       "2  1.372857\n",
       "3  0.998194\n",
       "4  0.905255"
      ]
     },
     "execution_count": 59,
     "metadata": {},
     "output_type": "execute_result"
    }
   ],
   "source": [
    "eig_val = pd.DataFrame({'Var':pca.explained_variance_})\n",
    "eig_val.head()"
   ]
  },
  {
   "cell_type": "code",
   "execution_count": 60,
   "id": "7108b591",
   "metadata": {},
   "outputs": [
    {
     "name": "stdout",
     "output_type": "stream",
     "text": [
      "(6712, 9)\n"
     ]
    },
    {
     "data": {
      "text/html": [
       "<div>\n",
       "<style scoped>\n",
       "    .dataframe tbody tr th:only-of-type {\n",
       "        vertical-align: middle;\n",
       "    }\n",
       "\n",
       "    .dataframe tbody tr th {\n",
       "        vertical-align: top;\n",
       "    }\n",
       "\n",
       "    .dataframe thead th {\n",
       "        text-align: right;\n",
       "    }\n",
       "</style>\n",
       "<table border=\"1\" class=\"dataframe\">\n",
       "  <thead>\n",
       "    <tr style=\"text-align: right;\">\n",
       "      <th></th>\n",
       "      <th>0</th>\n",
       "      <th>1</th>\n",
       "      <th>2</th>\n",
       "      <th>3</th>\n",
       "      <th>4</th>\n",
       "      <th>5</th>\n",
       "      <th>6</th>\n",
       "      <th>7</th>\n",
       "      <th>8</th>\n",
       "    </tr>\n",
       "  </thead>\n",
       "  <tbody>\n",
       "    <tr>\n",
       "      <th>0</th>\n",
       "      <td>2.423534</td>\n",
       "      <td>2.644558</td>\n",
       "      <td>1.246932</td>\n",
       "      <td>0.793064</td>\n",
       "      <td>-0.493245</td>\n",
       "      <td>-1.726905</td>\n",
       "      <td>-1.109835</td>\n",
       "      <td>-0.725917</td>\n",
       "      <td>-0.176564</td>\n",
       "    </tr>\n",
       "    <tr>\n",
       "      <th>1</th>\n",
       "      <td>-1.986600</td>\n",
       "      <td>0.106960</td>\n",
       "      <td>-0.157597</td>\n",
       "      <td>-0.049397</td>\n",
       "      <td>-1.019276</td>\n",
       "      <td>-0.015773</td>\n",
       "      <td>0.300753</td>\n",
       "      <td>0.019715</td>\n",
       "      <td>-0.144425</td>\n",
       "    </tr>\n",
       "    <tr>\n",
       "      <th>2</th>\n",
       "      <td>-1.865637</td>\n",
       "      <td>0.209023</td>\n",
       "      <td>0.017177</td>\n",
       "      <td>-0.212248</td>\n",
       "      <td>-0.834822</td>\n",
       "      <td>0.271006</td>\n",
       "      <td>-0.329645</td>\n",
       "      <td>0.008857</td>\n",
       "      <td>-0.130101</td>\n",
       "    </tr>\n",
       "    <tr>\n",
       "      <th>3</th>\n",
       "      <td>0.672885</td>\n",
       "      <td>-1.964007</td>\n",
       "      <td>-1.446109</td>\n",
       "      <td>-0.546572</td>\n",
       "      <td>-0.182813</td>\n",
       "      <td>0.598963</td>\n",
       "      <td>0.236783</td>\n",
       "      <td>-0.382325</td>\n",
       "      <td>-0.222369</td>\n",
       "    </tr>\n",
       "    <tr>\n",
       "      <th>4</th>\n",
       "      <td>2.430569</td>\n",
       "      <td>-0.715024</td>\n",
       "      <td>2.997178</td>\n",
       "      <td>0.571024</td>\n",
       "      <td>-1.202092</td>\n",
       "      <td>-0.335367</td>\n",
       "      <td>0.094706</td>\n",
       "      <td>-0.095023</td>\n",
       "      <td>0.201605</td>\n",
       "    </tr>\n",
       "  </tbody>\n",
       "</table>\n",
       "</div>"
      ],
      "text/plain": [
       "          0         1         2         3         4         5         6  \\\n",
       "0  2.423534  2.644558  1.246932  0.793064 -0.493245 -1.726905 -1.109835   \n",
       "1 -1.986600  0.106960 -0.157597 -0.049397 -1.019276 -0.015773  0.300753   \n",
       "2 -1.865637  0.209023  0.017177 -0.212248 -0.834822  0.271006 -0.329645   \n",
       "3  0.672885 -1.964007 -1.446109 -0.546572 -0.182813  0.598963  0.236783   \n",
       "4  2.430569 -0.715024  2.997178  0.571024 -1.202092 -0.335367  0.094706   \n",
       "\n",
       "          7         8  \n",
       "0 -0.725917 -0.176564  \n",
       "1  0.019715 -0.144425  \n",
       "2  0.008857 -0.130101  \n",
       "3 -0.382325 -0.222369  \n",
       "4 -0.095023  0.201605  "
      ]
     },
     "execution_count": 60,
     "metadata": {},
     "output_type": "execute_result"
    }
   ],
   "source": [
    "pc_train = pd.DataFrame(pc_x_train)\n",
    "print(pc_train.shape)\n",
    "pc_train.head()"
   ]
  },
  {
   "cell_type": "code",
   "execution_count": 61,
   "id": "3a3bcd48",
   "metadata": {},
   "outputs": [
    {
     "name": "stdout",
     "output_type": "stream",
     "text": [
      "(2238, 9)\n"
     ]
    },
    {
     "data": {
      "text/html": [
       "<div>\n",
       "<style scoped>\n",
       "    .dataframe tbody tr th:only-of-type {\n",
       "        vertical-align: middle;\n",
       "    }\n",
       "\n",
       "    .dataframe tbody tr th {\n",
       "        vertical-align: top;\n",
       "    }\n",
       "\n",
       "    .dataframe thead th {\n",
       "        text-align: right;\n",
       "    }\n",
       "</style>\n",
       "<table border=\"1\" class=\"dataframe\">\n",
       "  <thead>\n",
       "    <tr style=\"text-align: right;\">\n",
       "      <th></th>\n",
       "      <th>0</th>\n",
       "      <th>1</th>\n",
       "      <th>2</th>\n",
       "      <th>3</th>\n",
       "      <th>4</th>\n",
       "      <th>5</th>\n",
       "      <th>6</th>\n",
       "      <th>7</th>\n",
       "      <th>8</th>\n",
       "    </tr>\n",
       "  </thead>\n",
       "  <tbody>\n",
       "    <tr>\n",
       "      <th>0</th>\n",
       "      <td>-2.385436</td>\n",
       "      <td>-0.615653</td>\n",
       "      <td>1.379812</td>\n",
       "      <td>-0.671533</td>\n",
       "      <td>2.521134</td>\n",
       "      <td>-0.393110</td>\n",
       "      <td>-1.241937</td>\n",
       "      <td>-0.094376</td>\n",
       "      <td>-0.119673</td>\n",
       "    </tr>\n",
       "    <tr>\n",
       "      <th>1</th>\n",
       "      <td>-0.160208</td>\n",
       "      <td>-0.524763</td>\n",
       "      <td>0.219334</td>\n",
       "      <td>-0.025332</td>\n",
       "      <td>-0.822281</td>\n",
       "      <td>0.185885</td>\n",
       "      <td>0.590911</td>\n",
       "      <td>-0.239903</td>\n",
       "      <td>0.621153</td>\n",
       "    </tr>\n",
       "    <tr>\n",
       "      <th>2</th>\n",
       "      <td>0.422311</td>\n",
       "      <td>-2.159225</td>\n",
       "      <td>-1.175952</td>\n",
       "      <td>-0.168339</td>\n",
       "      <td>-0.666598</td>\n",
       "      <td>-0.215880</td>\n",
       "      <td>-0.256183</td>\n",
       "      <td>-0.291041</td>\n",
       "      <td>0.448882</td>\n",
       "    </tr>\n",
       "    <tr>\n",
       "      <th>3</th>\n",
       "      <td>1.942224</td>\n",
       "      <td>-0.923794</td>\n",
       "      <td>2.615359</td>\n",
       "      <td>1.027971</td>\n",
       "      <td>-1.678929</td>\n",
       "      <td>-1.213456</td>\n",
       "      <td>0.508632</td>\n",
       "      <td>0.180231</td>\n",
       "      <td>0.156785</td>\n",
       "    </tr>\n",
       "    <tr>\n",
       "      <th>4</th>\n",
       "      <td>4.041864</td>\n",
       "      <td>-0.299078</td>\n",
       "      <td>0.006641</td>\n",
       "      <td>-0.849995</td>\n",
       "      <td>0.818095</td>\n",
       "      <td>1.341211</td>\n",
       "      <td>0.610954</td>\n",
       "      <td>1.261203</td>\n",
       "      <td>0.709711</td>\n",
       "    </tr>\n",
       "  </tbody>\n",
       "</table>\n",
       "</div>"
      ],
      "text/plain": [
       "          0         1         2         3         4         5         6  \\\n",
       "0 -2.385436 -0.615653  1.379812 -0.671533  2.521134 -0.393110 -1.241937   \n",
       "1 -0.160208 -0.524763  0.219334 -0.025332 -0.822281  0.185885  0.590911   \n",
       "2  0.422311 -2.159225 -1.175952 -0.168339 -0.666598 -0.215880 -0.256183   \n",
       "3  1.942224 -0.923794  2.615359  1.027971 -1.678929 -1.213456  0.508632   \n",
       "4  4.041864 -0.299078  0.006641 -0.849995  0.818095  1.341211  0.610954   \n",
       "\n",
       "          7         8  \n",
       "0 -0.094376 -0.119673  \n",
       "1 -0.239903  0.621153  \n",
       "2 -0.291041  0.448882  \n",
       "3  0.180231  0.156785  \n",
       "4  1.261203  0.709711  "
      ]
     },
     "execution_count": 61,
     "metadata": {},
     "output_type": "execute_result"
    }
   ],
   "source": [
    "pc_test = pd.DataFrame(pc_x_test)\n",
    "print(pc_test.shape)\n",
    "pc_test.head()"
   ]
  },
  {
   "cell_type": "code",
   "execution_count": 62,
   "id": "058d8a3e",
   "metadata": {},
   "outputs": [
    {
     "name": "stdout",
     "output_type": "stream",
     "text": [
      "(6712, 9)\n",
      "(2238, 9)\n",
      "(6712,)\n",
      "(2238,)\n"
     ]
    }
   ],
   "source": [
    "print(pc_train.shape)\n",
    "print(pc_test.shape)\n",
    "print(y_train.shape)\n",
    "print(y_test.shape)"
   ]
  },
  {
   "cell_type": "code",
   "execution_count": 63,
   "id": "1c781f95",
   "metadata": {},
   "outputs": [
    {
     "name": "stdout",
     "output_type": "stream",
     "text": [
      "(8950, 9)\n"
     ]
    },
    {
     "data": {
      "text/html": [
       "<div>\n",
       "<style scoped>\n",
       "    .dataframe tbody tr th:only-of-type {\n",
       "        vertical-align: middle;\n",
       "    }\n",
       "\n",
       "    .dataframe tbody tr th {\n",
       "        vertical-align: top;\n",
       "    }\n",
       "\n",
       "    .dataframe thead th {\n",
       "        text-align: right;\n",
       "    }\n",
       "</style>\n",
       "<table border=\"1\" class=\"dataframe\">\n",
       "  <thead>\n",
       "    <tr style=\"text-align: right;\">\n",
       "      <th></th>\n",
       "      <th>0</th>\n",
       "      <th>1</th>\n",
       "      <th>2</th>\n",
       "      <th>3</th>\n",
       "      <th>4</th>\n",
       "      <th>5</th>\n",
       "      <th>6</th>\n",
       "      <th>7</th>\n",
       "      <th>8</th>\n",
       "    </tr>\n",
       "  </thead>\n",
       "  <tbody>\n",
       "    <tr>\n",
       "      <th>0</th>\n",
       "      <td>2.423534</td>\n",
       "      <td>2.644558</td>\n",
       "      <td>1.246932</td>\n",
       "      <td>0.793064</td>\n",
       "      <td>-0.493245</td>\n",
       "      <td>-1.726905</td>\n",
       "      <td>-1.109835</td>\n",
       "      <td>-0.725917</td>\n",
       "      <td>-0.176564</td>\n",
       "    </tr>\n",
       "    <tr>\n",
       "      <th>1</th>\n",
       "      <td>-1.986600</td>\n",
       "      <td>0.106960</td>\n",
       "      <td>-0.157597</td>\n",
       "      <td>-0.049397</td>\n",
       "      <td>-1.019276</td>\n",
       "      <td>-0.015773</td>\n",
       "      <td>0.300753</td>\n",
       "      <td>0.019715</td>\n",
       "      <td>-0.144425</td>\n",
       "    </tr>\n",
       "    <tr>\n",
       "      <th>2</th>\n",
       "      <td>-1.865637</td>\n",
       "      <td>0.209023</td>\n",
       "      <td>0.017177</td>\n",
       "      <td>-0.212248</td>\n",
       "      <td>-0.834822</td>\n",
       "      <td>0.271006</td>\n",
       "      <td>-0.329645</td>\n",
       "      <td>0.008857</td>\n",
       "      <td>-0.130101</td>\n",
       "    </tr>\n",
       "    <tr>\n",
       "      <th>3</th>\n",
       "      <td>0.672885</td>\n",
       "      <td>-1.964007</td>\n",
       "      <td>-1.446109</td>\n",
       "      <td>-0.546572</td>\n",
       "      <td>-0.182813</td>\n",
       "      <td>0.598963</td>\n",
       "      <td>0.236783</td>\n",
       "      <td>-0.382325</td>\n",
       "      <td>-0.222369</td>\n",
       "    </tr>\n",
       "    <tr>\n",
       "      <th>4</th>\n",
       "      <td>2.430569</td>\n",
       "      <td>-0.715024</td>\n",
       "      <td>2.997178</td>\n",
       "      <td>0.571024</td>\n",
       "      <td>-1.202092</td>\n",
       "      <td>-0.335367</td>\n",
       "      <td>0.094706</td>\n",
       "      <td>-0.095023</td>\n",
       "      <td>0.201605</td>\n",
       "    </tr>\n",
       "  </tbody>\n",
       "</table>\n",
       "</div>"
      ],
      "text/plain": [
       "          0         1         2         3         4         5         6  \\\n",
       "0  2.423534  2.644558  1.246932  0.793064 -0.493245 -1.726905 -1.109835   \n",
       "1 -1.986600  0.106960 -0.157597 -0.049397 -1.019276 -0.015773  0.300753   \n",
       "2 -1.865637  0.209023  0.017177 -0.212248 -0.834822  0.271006 -0.329645   \n",
       "3  0.672885 -1.964007 -1.446109 -0.546572 -0.182813  0.598963  0.236783   \n",
       "4  2.430569 -0.715024  2.997178  0.571024 -1.202092 -0.335367  0.094706   \n",
       "\n",
       "          7         8  \n",
       "0 -0.725917 -0.176564  \n",
       "1  0.019715 -0.144425  \n",
       "2  0.008857 -0.130101  \n",
       "3 -0.382325 -0.222369  \n",
       "4 -0.095023  0.201605  "
      ]
     },
     "execution_count": 63,
     "metadata": {},
     "output_type": "execute_result"
    }
   ],
   "source": [
    "master_df=pc_train.append(pc_test)\n",
    "print(master_df.shape)\n",
    "master_df.head()"
   ]
  },
  {
   "cell_type": "markdown",
   "id": "c677be3d",
   "metadata": {},
   "source": [
    "### Q4. Find the optimum value of k for k-means clustering using the elbow method. Plot the elbow curve."
   ]
  },
  {
   "cell_type": "code",
   "execution_count": 64,
   "id": "53bcbc0f",
   "metadata": {},
   "outputs": [],
   "source": [
    "from sklearn.cluster import KMeans\n",
    "from sklearn.metrics import silhouette_score"
   ]
  },
  {
   "cell_type": "markdown",
   "id": "806a3e32",
   "metadata": {},
   "source": [
    "### Identifying clusters through Elbow Plot\n",
    "#### Insights\n",
    "* We can see that the Elbow bend is at 5.0, which means 5.0 or values around it are our ideal number of clusters as per the plot."
   ]
  },
  {
   "cell_type": "code",
   "execution_count": 66,
   "id": "6b4453d2",
   "metadata": {},
   "outputs": [
    {
     "name": "stdout",
     "output_type": "stream",
     "text": [
      "WCSS\n",
      " [103526.09679544155, 75958.40345887076, 63282.95652374087, 53708.60931053227, 46390.372304377335, 41864.764659399836, 37773.62512312804, 35093.962255541504, 33357.2526603283, 31851.662629092545, 30199.447943586205, 28714.89962283319, 27559.494296948127, 26299.805061362924, 25480.720038361687, 24367.37119667711, 23689.23262380049, 22792.51629277101, 22294.948117494958]\n"
     ]
    },
    {
     "data": {
      "image/png": "[encoded data removed]",
      "text/plain": [
       "<Figure size 432x288 with 1 Axes>"
      ]
     },
     "metadata": {
      "needs_background": "light"
     },
     "output_type": "display_data"
    }
   ],
   "source": [
    "wcss = []\n",
    "for i in range(1,20): \n",
    "    m = KMeans(n_clusters=i)\n",
    "    m.fit(master_df)\n",
    "    wcss.append(m.inertia_)\n",
    "\n",
    "print('WCSS\\n',wcss)\n",
    "plt.plot(list(range(1,20)),wcss)\n",
    "plt.xlabel('No of clusters')\n",
    "plt.ylabel('WCSS')\n",
    "plt.grid()\n",
    "plt.show()"
   ]
  },
  {
   "cell_type": "markdown",
   "id": "e8519fe8",
   "metadata": {},
   "source": [
    "### Q5. Find the optimum value of k for k-means clustering using the silhouette score method and specify the number of observations in each cluster using a bar plot."
   ]
  },
  {
   "cell_type": "markdown",
   "id": "8a4a9676",
   "metadata": {},
   "source": [
    "#### As per the below Silhouette Scores, 8 is our ideal number of clusters since Silhouette Score is maximum at 8."
   ]
  },
  {
   "cell_type": "code",
   "execution_count": 67,
   "id": "f0f25eab",
   "metadata": {},
   "outputs": [
    {
     "name": "stdout",
     "output_type": "stream",
     "text": [
      "Silhoutte Score at K=2 0.2747928723381309\n",
      "Silhoutte Score at K=3 0.27704891374605123\n",
      "Silhoutte Score at K=4 0.2708938512762292\n",
      "Silhoutte Score at K=5 0.30095019634770526\n",
      "Silhoutte Score at K=6 0.30587506921621715\n",
      "Silhoutte Score at K=7 0.3087483166240774\n",
      "Silhoutte Score at K=8 0.31910273229556085\n",
      "Silhoutte Score at K=9 0.2986891791212744\n"
     ]
    }
   ],
   "source": [
    "for i in range(2,10): # i = no of clusters\n",
    "    m = KMeans(n_clusters=i).fit(master_df)\n",
    "    print(f'Silhoutte Score at K={i}',silhouette_score(master_df,m.labels_))"
   ]
  },
  {
   "cell_type": "code",
   "execution_count": 68,
   "id": "d57bbc4e",
   "metadata": {},
   "outputs": [],
   "source": [
    "from yellowbrick.cluster import SilhouetteVisualizer"
   ]
  },
  {
   "cell_type": "code",
   "execution_count": 70,
   "id": "492f1223",
   "metadata": {},
   "outputs": [
    {
     "data": {
      "image/png": "[encoded data removed]",
      "text/plain": [
       "<Figure size 576x396 with 1 Axes>"
      ]
     },
     "metadata": {},
     "output_type": "display_data"
    }
   ],
   "source": [
    "model1 = KMeans(n_clusters=8)\n",
    "visualizer1 = SilhouetteVisualizer(model1,colors='yellowbrick')\n",
    "visualizer1.fit(master_df)\n",
    "plt.show()"
   ]
  },
  {
   "cell_type": "code",
   "execution_count": 71,
   "id": "2aed2259",
   "metadata": {},
   "outputs": [
    {
     "name": "stdout",
     "output_type": "stream",
     "text": [
      "[1 2 2 ... 0 0 4]\n"
     ]
    }
   ],
   "source": [
    "k8 = KMeans(n_clusters=8)\n",
    "k8.fit(master_df)\n",
    "ypred8 = k8.predict(master_df)\n",
    "print(ypred8)"
   ]
  },
  {
   "cell_type": "code",
   "execution_count": 72,
   "id": "fc0d2471",
   "metadata": {},
   "outputs": [
    {
     "name": "stdout",
     "output_type": "stream",
     "text": [
      "Counter({2: 2588, 7: 1564, 3: 1148, 6: 906, 5: 727, 0: 710, 1: 702, 4: 605})\n"
     ]
    }
   ],
   "source": [
    "from collections import Counter\n",
    "c1 = Counter(ypred8)\n",
    "print(c1)"
   ]
  },
  {
   "cell_type": "code",
   "execution_count": 73,
   "id": "31835135",
   "metadata": {},
   "outputs": [
    {
     "data": {
      "text/html": [
       "<div>\n",
       "<style scoped>\n",
       "    .dataframe tbody tr th:only-of-type {\n",
       "        vertical-align: middle;\n",
       "    }\n",
       "\n",
       "    .dataframe tbody tr th {\n",
       "        vertical-align: top;\n",
       "    }\n",
       "\n",
       "    .dataframe thead th {\n",
       "        text-align: right;\n",
       "    }\n",
       "</style>\n",
       "<table border=\"1\" class=\"dataframe\">\n",
       "  <thead>\n",
       "    <tr style=\"text-align: right;\">\n",
       "      <th></th>\n",
       "      <th>K0</th>\n",
       "      <th>K1</th>\n",
       "      <th>K2</th>\n",
       "      <th>K3</th>\n",
       "      <th>K4</th>\n",
       "      <th>K5</th>\n",
       "      <th>K6</th>\n",
       "      <th>K7</th>\n",
       "    </tr>\n",
       "  </thead>\n",
       "  <tbody>\n",
       "    <tr>\n",
       "      <th>0</th>\n",
       "      <td>710</td>\n",
       "      <td>702</td>\n",
       "      <td>2588</td>\n",
       "      <td>1148</td>\n",
       "      <td>605</td>\n",
       "      <td>727</td>\n",
       "      <td>906</td>\n",
       "      <td>1564</td>\n",
       "    </tr>\n",
       "  </tbody>\n",
       "</table>\n",
       "</div>"
      ],
      "text/plain": [
       "    K0   K1    K2    K3   K4   K5   K6    K7\n",
       "0  710  702  2588  1148  605  727  906  1564"
      ]
     },
     "execution_count": 73,
     "metadata": {},
     "output_type": "execute_result"
    }
   ],
   "source": [
    "data = {'K0': ['710'],'K1':['702'],'K2': ['2588'],'K3': ['1148'],'K4': ['605'],'K5': ['727'],'K6': ['906'],'K7': ['1564']} \n",
    "new_df = pd.DataFrame.from_dict(data)\n",
    "new_df.head()"
   ]
  },
  {
   "cell_type": "code",
   "execution_count": 74,
   "id": "7aea5920",
   "metadata": {},
   "outputs": [
    {
     "data": {
      "image/png": "[encoded data removed]",
      "text/plain": [
       "<Figure size 576x396 with 1 Axes>"
      ]
     },
     "metadata": {},
     "output_type": "display_data"
    },
    {
     "data": {
      "image/png": "[encoded data removed]",
      "text/plain": [
       "<Figure size 576x396 with 1 Axes>"
      ]
     },
     "metadata": {},
     "output_type": "display_data"
    },
    {
     "data": {
      "image/png": "[encoded data removed]",
      "text/plain": [
       "<Figure size 576x396 with 1 Axes>"
      ]
     },
     "metadata": {},
     "output_type": "display_data"
    },
    {
     "data": {
      "image/png": "[encoded data removed]",
      "text/plain": [
       "<Figure size 576x396 with 1 Axes>"
      ]
     },
     "metadata": {},
     "output_type": "display_data"
    },
    {
     "data": {
      "image/png": "[encoded data removed]",
      "text/plain": [
       "<Figure size 576x396 with 1 Axes>"
      ]
     },
     "metadata": {},
     "output_type": "display_data"
    },
    {
     "data": {
      "image/png": "[encoded data removed]",
      "text/plain": [
       "<Figure size 576x396 with 1 Axes>"
      ]
     },
     "metadata": {},
     "output_type": "display_data"
    },
    {
     "data": {
      "image/png": "[encoded data removed]",
      "text/plain": [
       "<Figure size 576x396 with 1 Axes>"
      ]
     },
     "metadata": {},
     "output_type": "display_data"
    },
    {
     "data": {
      "image/png": "[encoded data removed]",
      "text/plain": [
       "<Figure size 576x396 with 1 Axes>"
      ]
     },
     "metadata": {},
     "output_type": "display_data"
    }
   ],
   "source": [
    "for i in new_df:\n",
    "    sns.countplot(x=new_df[i])\n",
    "    plt.xticks(rotation=90)\n",
    "    plt.show()"
   ]
  },
  {
   "cell_type": "code",
   "execution_count": null,
   "id": "a89fcf36",
   "metadata": {},
   "outputs": [],
   "source": []
  }
 ],
 "metadata": {
  "kernelspec": {
   "display_name": "Python 3 (ipykernel)",
   "language": "python",
   "name": "python3"
  },
  "language_info": {
   "codemirror_mode": {
    "name": "ipython",
    "version": 3
   },
   "file_extension": ".py",
   "mimetype": "text/x-python",
   "name": "python",
   "nbconvert_exporter": "python",
   "pygments_lexer": "ipython3",
   "version": "3.9.7"
  }
 },
 "nbformat": 4,
 "nbformat_minor": 5
}
